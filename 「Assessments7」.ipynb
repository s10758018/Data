{
  "nbformat": 4,
  "nbformat_minor": 0,
  "metadata": {
    "colab": {
      "name": "「Assessments7」",
      "provenance": [],
      "collapsed_sections": [],
      "include_colab_link": true
    },
    "kernelspec": {
      "name": "ir",
      "display_name": "R"
    }
  },
  "cells": [
    {
      "cell_type": "markdown",
      "metadata": {
        "id": "view-in-github",
        "colab_type": "text"
      },
      "source": [
        "<a href=\"https://colab.research.google.com/github/s10758018/Data/blob/master/%E3%80%8CAssessments7%E3%80%8D.ipynb\" target=\"_parent\"><img src=\"https://colab.research.google.com/assets/colab-badge.svg\" alt=\"Open In Colab\"/></a>"
      ]
    },
    {
      "cell_type": "code",
      "metadata": {
        "id": "Np6YAQumkz64",
        "outputId": "f105bf9e-ad5a-49af-ff82-7b048e601374",
        "colab": {
          "base_uri": "https://localhost:8080/"
        }
      },
      "source": [
        "install.packages(\"readr\")\n",
        "install.packages(\"ggplot2\")"
      ],
      "execution_count": 16,
      "outputs": [
        {
          "output_type": "stream",
          "text": [
            "Installing package into ‘/usr/local/lib/R/site-library’\n",
            "(as ‘lib’ is unspecified)\n",
            "\n",
            "Installing package into ‘/usr/local/lib/R/site-library’\n",
            "(as ‘lib’ is unspecified)\n",
            "\n"
          ],
          "name": "stderr"
        }
      ]
    },
    {
      "cell_type": "code",
      "metadata": {
        "id": "vu5sUG6JyulK"
      },
      "source": [
        "library(readr)\n",
        "library(ggplot2)"
      ],
      "execution_count": null,
      "outputs": []
    },
    {
      "cell_type": "code",
      "metadata": {
        "id": "3BBssgXCyyCG"
      },
      "source": [
        "Tainan <- read.csv(\"臺南土地地價.csv\")"
      ],
      "execution_count": null,
      "outputs": []
    },
    {
      "cell_type": "code",
      "metadata": {
        "id": "LHUy0tVQy04M"
      },
      "source": [
        "str(Tainan)"
      ],
      "execution_count": null,
      "outputs": []
    },
    {
      "cell_type": "code",
      "metadata": {
        "id": "VMVxEvHrlYj7"
      },
      "source": [
        "head(Tainan)"
      ],
      "execution_count": null,
      "outputs": []
    },
    {
      "cell_type": "code",
      "metadata": {
        "id": "Iengzjy5vU7e"
      },
      "source": [
        "qplot(面積總計,公告地價總額總計,data=Tainan)\n",
        "qplot(都市土地面積合計,都市土地公告地價總額,data=Tainan)"
      ],
      "execution_count": null,
      "outputs": []
    },
    {
      "cell_type": "code",
      "metadata": {
        "id": "HiJylk8JzoKE"
      },
      "source": [
        "qplot(面積總計, 公告地價總額總計, data = Tainan,geom = c(\"point\", \"smooth\"))\n",
        "qplot(都市土地面積合計, 都市土地公告地價總額, data = Tainan,geom = c(\"point\", \"smooth\"))"
      ],
      "execution_count": null,
      "outputs": []
    },
    {
      "cell_type": "code",
      "metadata": {
        "id": "lk6Lsnx0vmC2"
      },
      "source": [
        "qplot(面積總計, 公告地價總額總計, data = Tainan,color=行政區)\n",
        "qplot(都市土地面積合計, 都市土地公告地價總額, data = Tainan,color=行政區)"
      ],
      "execution_count": null,
      "outputs": []
    },
    {
      "cell_type": "code",
      "metadata": {
        "id": "69fMxavUwEft"
      },
      "source": [
        " qplot(面積總計, data = Tainan, fill = 行政區)\n",
        " qplot(都市土地面積合計, data = Tainan, fill = 行政區)"
      ],
      "execution_count": null,
      "outputs": []
    },
    {
      "cell_type": "code",
      "metadata": {
        "id": "VdtHbQqSwgUp"
      },
      "source": [
        "qplot(面積總計,公告地價總額總計,\n",
        "      data=Tainan,\n",
        "      facets=行政區~.)\n",
        "qplot(都市土地面積合計,都市土地公告地價總額,\n",
        "      data=Tainan,\n",
        "      facets=行政區~.)"
      ],
      "execution_count": null,
      "outputs": []
    },
    {
      "cell_type": "code",
      "metadata": {
        "id": "0AX4V1ysxno4"
      },
      "source": [
        "qplot(面積總計,公告地價總額總計,\n",
        "      data=Tainan,\n",
        "      facets=.~行政區)\n",
        "qplot(都市土地面積合計,都市土地公告地價總額,\n",
        "      data=Tainan,\n",
        "      facets=.~行政區)"
      ],
      "execution_count": null,
      "outputs": []
    },
    {
      "cell_type": "code",
      "metadata": {
        "id": "X2laxucyyEIB"
      },
      "source": [
        "qplot(面積總計,data=Tainan,\n",
        "      facets=行政區~., binwidth=1000)\n",
        "qplot(都市土地面積合計,data=Tainan,\n",
        "      facets=行政區~., binwidth=1000)"
      ],
      "execution_count": null,
      "outputs": []
    },
    {
      "cell_type": "code",
      "metadata": {
        "id": "FwRvoe3wmDjJ"
      },
      "source": [
        "ggplot(Tainan, aes(x = 面積總計,y = 公告地價總額總計)) + geom_point()\n",
        "\n",
        "ggplot(Tainan, aes(x = 都市土地面積合計,y = 都市土地公告地價總額)) + geom_point()"
      ],
      "execution_count": null,
      "outputs": []
    }
  ]
}