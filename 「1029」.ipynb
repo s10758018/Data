{
  "nbformat": 4,
  "nbformat_minor": 0,
  "metadata": {
    "colab": {
      "name": "「1029.ipynb」",
      "provenance": [],
      "collapsed_sections": [],
      "include_colab_link": true
    },
    "kernelspec": {
      "name": "ir",
      "display_name": "R"
    }
  },
  "cells": [
    {
      "cell_type": "markdown",
      "metadata": {
        "id": "view-in-github",
        "colab_type": "text"
      },
      "source": [
        "<a href=\"https://colab.research.google.com/github/s10758018/Data/blob/master/%E3%80%8C1029%E3%80%8D.ipynb\" target=\"_parent\"><img src=\"https://colab.research.google.com/assets/colab-badge.svg\" alt=\"Open In Colab\"/></a>"
      ]
    },
    {
      "cell_type": "code",
      "metadata": {
        "id": "gQNUns6TcLQz",
        "outputId": "57d309bd-8392-4b00-b140-d0194993ada5",
        "colab": {
          "base_uri": "https://localhost:8080/"
        }
      },
      "source": [
        "install.packages(\"readr\")\n",
        "install.packages(\"ggplot2\")"
      ],
      "execution_count": 61,
      "outputs": [
        {
          "output_type": "stream",
          "text": [
            "Installing package into ‘/usr/local/lib/R/site-library’\n",
            "(as ‘lib’ is unspecified)\n",
            "\n",
            "Installing package into ‘/usr/local/lib/R/site-library’\n",
            "(as ‘lib’ is unspecified)\n",
            "\n"
          ],
          "name": "stderr"
        }
      ]
    },
    {
      "cell_type": "code",
      "metadata": {
        "id": "VCrUn4OhcpLB"
      },
      "source": [
        "library(readr)\n",
        "library(ggplot2)"
      ],
      "execution_count": null,
      "outputs": []
    },
    {
      "cell_type": "code",
      "metadata": {
        "id": "WJJAiqPgdRU3"
      },
      "source": [
        "studentdataset <- readr.csv(\"108_student.csv\")"
      ],
      "execution_count": null,
      "outputs": []
    },
    {
      "cell_type": "code",
      "metadata": {
        "id": "jXDAZOHtdnDO",
        "outputId": "ce5c914a-cf5c-4f85-aecf-122222f67a96",
        "colab": {
          "base_uri": "https://localhost:8080/",
          "height": 130
        }
      },
      "source": [
        "str(studentdataset)"
      ],
      "execution_count": 66,
      "outputs": [
        {
          "output_type": "error",
          "ename": "ERROR",
          "evalue": "ignored",
          "traceback": [
            "Error in str(studentdataset): object 'studentdataset' not found\nTraceback:\n",
            "1. str(studentdataset)"
          ]
        }
      ]
    },
    {
      "cell_type": "code",
      "metadata": {
        "id": "MKPvj1lgeTFe",
        "outputId": "6b60f96d-7537-46b8-fa5d-7a657d3e25fd",
        "colab": {
          "base_uri": "https://localhost:8080/",
          "height": 130
        }
      },
      "source": [
        "head(studentdataset)"
      ],
      "execution_count": 65,
      "outputs": [
        {
          "output_type": "error",
          "ename": "ERROR",
          "evalue": "ignored",
          "traceback": [
            "Error in head(studentdataset): object 'studentdataset' not found\nTraceback:\n",
            "1. head(studentdataset)"
          ]
        }
      ]
    },
    {
      "cell_type": "code",
      "metadata": {
        "id": "Zfa4KYUTfAaX",
        "outputId": "0ea7ed7d-63bf-41d1-c41a-8131f5d99c65",
        "colab": {
          "base_uri": "https://localhost:8080/"
        }
      },
      "source": [
        "install.packages(\"showtext\")"
      ],
      "execution_count": 59,
      "outputs": [
        {
          "output_type": "stream",
          "text": [
            "Installing package into ‘/usr/local/lib/R/site-library’\n",
            "(as ‘lib’ is unspecified)\n",
            "\n"
          ],
          "name": "stderr"
        }
      ]
    },
    {
      "cell_type": "code",
      "metadata": {
        "id": "SLI6TBuchqjq"
      },
      "source": [
        "library(showtext)"
      ],
      "execution_count": null,
      "outputs": []
    },
    {
      "cell_type": "code",
      "metadata": {
        "id": "2ISVf49DgIgZ"
      },
      "source": [
        "showtext.auto(enable = TRUE)"
      ],
      "execution_count": null,
      "outputs": []
    },
    {
      "cell_type": "code",
      "metadata": {
        "id": "aBx0CpgKfzlw",
        "outputId": "6c37d24e-d9eb-4583-c274-551f92c18942",
        "colab": {
          "base_uri": "https://localhost:8080/",
          "height": 1000
        }
      },
      "source": [
        "qplot(studentdataset,\n",
        "aes(X = 體系別,y = 總計)) + geom_point()\n",
        "\n",
        "qplot(studentdataset,\n",
        "aes(體系別, 總計)) + geom_point()"
      ],
      "execution_count": 64,
      "outputs": [
        {
          "output_type": "stream",
          "text": [
            "ERROR while rich displaying an object: Error in FUN(X[[i]], ...): object 'studentdataset' not found\n",
            "\n",
            "Traceback:\n",
            "1. FUN(X[[i]], ...)\n",
            "2. tryCatch(withCallingHandlers({\n",
            " .     if (!mime %in% names(repr::mime2repr)) \n",
            " .         stop(\"No repr_* for mimetype \", mime, \" in repr::mime2repr\")\n",
            " .     rpr <- repr::mime2repr[[mime]](obj)\n",
            " .     if (is.null(rpr)) \n",
            " .         return(NULL)\n",
            " .     prepare_content(is.raw(rpr), rpr)\n",
            " . }, error = error_handler), error = outer_handler)\n",
            "3. tryCatchList(expr, classes, parentenv, handlers)\n",
            "4. tryCatchOne(expr, names, parentenv, handlers[[1L]])\n",
            "5. doTryCatch(return(expr), name, parentenv, handler)\n",
            "6. withCallingHandlers({\n",
            " .     if (!mime %in% names(repr::mime2repr)) \n",
            " .         stop(\"No repr_* for mimetype \", mime, \" in repr::mime2repr\")\n",
            " .     rpr <- repr::mime2repr[[mime]](obj)\n",
            " .     if (is.null(rpr)) \n",
            " .         return(NULL)\n",
            " .     prepare_content(is.raw(rpr), rpr)\n",
            " . }, error = error_handler)\n",
            "7. repr::mime2repr[[mime]](obj)\n",
            "8. repr_text.default(obj)\n",
            "9. paste(capture.output(print(obj)), collapse = \"\\n\")\n",
            "10. capture.output(print(obj))\n",
            "11. evalVis(expr)\n",
            "12. withVisible(eval(expr, pf))\n",
            "13. eval(expr, pf)\n",
            "14. eval(expr, pf)\n",
            "15. print(obj)\n",
            "16. print.ggplot(obj)\n",
            "17. ggplot_build(x)\n",
            "18. ggplot_build.ggplot(x)\n",
            "19. by_layer(function(l, d) l$compute_aesthetics(d, plot))\n",
            "20. f(l = layers[[i]], d = data[[i]])\n",
            "21. l$compute_aesthetics(d, plot)\n",
            "22. f(..., self = self)\n",
            "23. scales_add_defaults(plot$scales, data, aesthetics, plot$plot_env)\n",
            "24. lapply(aesthetics[new_aesthetics], eval_tidy, data = data)\n",
            "25. FUN(X[[i]], ...)\n",
            "ERROR while rich displaying an object: Error in FUN(X[[i]], ...): object 'studentdataset' not found\n",
            "\n",
            "Traceback:\n",
            "1. FUN(X[[i]], ...)\n",
            "2. tryCatch(withCallingHandlers({\n",
            " .     if (!mime %in% names(repr::mime2repr)) \n",
            " .         stop(\"No repr_* for mimetype \", mime, \" in repr::mime2repr\")\n",
            " .     rpr <- repr::mime2repr[[mime]](obj)\n",
            " .     if (is.null(rpr)) \n",
            " .         return(NULL)\n",
            " .     prepare_content(is.raw(rpr), rpr)\n",
            " . }, error = error_handler), error = outer_handler)\n",
            "3. tryCatchList(expr, classes, parentenv, handlers)\n",
            "4. tryCatchOne(expr, names, parentenv, handlers[[1L]])\n",
            "5. doTryCatch(return(expr), name, parentenv, handler)\n",
            "6. withCallingHandlers({\n",
            " .     if (!mime %in% names(repr::mime2repr)) \n",
            " .         stop(\"No repr_* for mimetype \", mime, \" in repr::mime2repr\")\n",
            " .     rpr <- repr::mime2repr[[mime]](obj)\n",
            " .     if (is.null(rpr)) \n",
            " .         return(NULL)\n",
            " .     prepare_content(is.raw(rpr), rpr)\n",
            " . }, error = error_handler)\n",
            "7. repr::mime2repr[[mime]](obj)\n",
            "8. repr_text.default(obj)\n",
            "9. paste(capture.output(print(obj)), collapse = \"\\n\")\n",
            "10. capture.output(print(obj))\n",
            "11. evalVis(expr)\n",
            "12. withVisible(eval(expr, pf))\n",
            "13. eval(expr, pf)\n",
            "14. eval(expr, pf)\n",
            "15. print(obj)\n",
            "16. print.ggplot(obj)\n",
            "17. ggplot_build(x)\n",
            "18. ggplot_build.ggplot(x)\n",
            "19. by_layer(function(l, d) l$compute_aesthetics(d, plot))\n",
            "20. f(l = layers[[i]], d = data[[i]])\n",
            "21. l$compute_aesthetics(d, plot)\n",
            "22. f(..., self = self)\n",
            "23. scales_add_defaults(plot$scales, data, aesthetics, plot$plot_env)\n",
            "24. lapply(aesthetics[new_aesthetics], eval_tidy, data = data)\n",
            "25. FUN(X[[i]], ...)\n"
          ],
          "name": "stderr"
        },
        {
          "output_type": "display_data",
          "data": {
            "image/png": "[encoded data removed]",
            "text/plain": [
              "plot without title"
            ]
          },
          "metadata": {
            "tags": [],
            "image/png": {
              "width": 420,
              "height": 420
            }
          }
        }
      ]
    },
    {
      "cell_type": "code",
      "metadata": {
        "id": "vja2BLV0ieou",
        "outputId": "a3782d7f-48cb-4542-dd5d-7ea2919c987b",
        "colab": {
          "base_uri": "https://localhost:8080/",
          "height": 1000
        }
      },
      "source": [
        "qplot(studentdataset,\n",
        "aes(體系別)) + geom_bar()"
      ],
      "execution_count": 62,
      "outputs": [
        {
          "output_type": "stream",
          "text": [
            "ERROR while rich displaying an object: Error in FUN(X[[i]], ...): object 'studentdataset' not found\n",
            "\n",
            "Traceback:\n",
            "1. FUN(X[[i]], ...)\n",
            "2. tryCatch(withCallingHandlers({\n",
            " .     if (!mime %in% names(repr::mime2repr)) \n",
            " .         stop(\"No repr_* for mimetype \", mime, \" in repr::mime2repr\")\n",
            " .     rpr <- repr::mime2repr[[mime]](obj)\n",
            " .     if (is.null(rpr)) \n",
            " .         return(NULL)\n",
            " .     prepare_content(is.raw(rpr), rpr)\n",
            " . }, error = error_handler), error = outer_handler)\n",
            "3. tryCatchList(expr, classes, parentenv, handlers)\n",
            "4. tryCatchOne(expr, names, parentenv, handlers[[1L]])\n",
            "5. doTryCatch(return(expr), name, parentenv, handler)\n",
            "6. withCallingHandlers({\n",
            " .     if (!mime %in% names(repr::mime2repr)) \n",
            " .         stop(\"No repr_* for mimetype \", mime, \" in repr::mime2repr\")\n",
            " .     rpr <- repr::mime2repr[[mime]](obj)\n",
            " .     if (is.null(rpr)) \n",
            " .         return(NULL)\n",
            " .     prepare_content(is.raw(rpr), rpr)\n",
            " . }, error = error_handler)\n",
            "7. repr::mime2repr[[mime]](obj)\n",
            "8. repr_text.default(obj)\n",
            "9. paste(capture.output(print(obj)), collapse = \"\\n\")\n",
            "10. capture.output(print(obj))\n",
            "11. evalVis(expr)\n",
            "12. withVisible(eval(expr, pf))\n",
            "13. eval(expr, pf)\n",
            "14. eval(expr, pf)\n",
            "15. print(obj)\n",
            "16. print.ggplot(obj)\n",
            "17. ggplot_build(x)\n",
            "18. ggplot_build.ggplot(x)\n",
            "19. by_layer(function(l, d) l$compute_aesthetics(d, plot))\n",
            "20. f(l = layers[[i]], d = data[[i]])\n",
            "21. l$compute_aesthetics(d, plot)\n",
            "22. f(..., self = self)\n",
            "23. scales_add_defaults(plot$scales, data, aesthetics, plot$plot_env)\n",
            "24. lapply(aesthetics[new_aesthetics], eval_tidy, data = data)\n",
            "25. FUN(X[[i]], ...)\n"
          ],
          "name": "stderr"
        },
        {
          "output_type": "display_data",
          "data": {
            "image/png": "[encoded data removed]",
            "text/plain": [
              "plot without title"
            ]
          },
          "metadata": {
            "tags": [],
            "image/png": {
              "width": 420,
              "height": 420
            }
          }
        }
      ]
    }
  ]
}