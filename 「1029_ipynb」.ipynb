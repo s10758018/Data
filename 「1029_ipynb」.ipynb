{
  "nbformat": 4,
  "nbformat_minor": 0,
  "metadata": {
    "colab": {
      "name": "「1029.ipynb」",
      "provenance": [],
      "collapsed_sections": [],
      "include_colab_link": true
    },
    "kernelspec": {
      "name": "ir",
      "display_name": "R"
    }
  },
  "cells": [
    {
      "cell_type": "markdown",
      "metadata": {
        "id": "view-in-github",
        "colab_type": "text"
      },
      "source": [
        "<a href=\"https://colab.research.google.com/github/s10758018/Data/blob/master/%E3%80%8C1029_ipynb%E3%80%8D.ipynb\" target=\"_parent\"><img src=\"https://colab.research.google.com/assets/colab-badge.svg\" alt=\"Open In Colab\"/></a>"
      ]
    },
    {
      "cell_type": "code",
      "metadata": {
        "id": "gQNUns6TcLQz",
        "outputId": "e89add05-13f2-455d-e583-ebd6341a641c",
        "colab": {
          "base_uri": "https://localhost:8080/"
        }
      },
      "source": [
        "install.packages(\"readr\")"
      ],
      "execution_count": null,
      "outputs": [
        {
          "output_type": "stream",
          "text": [
            "Installing package into ‘/usr/local/lib/R/site-library’\n",
            "(as ‘lib’ is unspecified)\n",
            "\n"
          ],
          "name": "stderr"
        }
      ]
    },
    {
      "cell_type": "code",
      "metadata": {
        "id": "DL2g9WEjcXVw"
      },
      "source": [
        "install.packages(\"ggplot2\")"
      ],
      "execution_count": null,
      "outputs": []
    },
    {
      "cell_type": "code",
      "metadata": {
        "id": "VCrUn4OhcpLB"
      },
      "source": [
        "library(readr)\n",
        "library(ggplot2)"
      ],
      "execution_count": 50,
      "outputs": []
    },
    {
      "cell_type": "code",
      "metadata": {
        "id": "WJJAiqPgdRU3"
      },
      "source": [
        "studentdataset <- readr.csv(\"108_student.csv\")"
      ],
      "execution_count": null,
      "outputs": []
    },
    {
      "cell_type": "code",
      "metadata": {
        "id": "jXDAZOHtdnDO"
      },
      "source": [
        "str(studentdataset)"
      ],
      "execution_count": null,
      "outputs": []
    },
    {
      "cell_type": "code",
      "metadata": {
        "id": "MKPvj1lgeTFe",
        "outputId": "6ec3e031-3a1b-47ab-e8ea-84449979fe2b",
        "colab": {
          "base_uri": "https://localhost:8080/",
          "height": 130
        }
      },
      "source": [
        "head(studentdataset)"
      ],
      "execution_count": 27,
      "outputs": [
        {
          "output_type": "error",
          "ename": "ERROR",
          "evalue": "ignored",
          "traceback": [
            "Error in head(studentdataset): object 'studentdataset' not found\nTraceback:\n",
            "1. head(studentdataset)"
          ]
        }
      ]
    },
    {
      "cell_type": "code",
      "metadata": {
        "id": "Zfa4KYUTfAaX",
        "outputId": "329475ea-59f7-49fb-f901-c3fbeb2691f5",
        "colab": {
          "base_uri": "https://localhost:8080/"
        }
      },
      "source": [
        "install.packages(\"showtext\")"
      ],
      "execution_count": 43,
      "outputs": [
        {
          "output_type": "stream",
          "text": [
            "Installing package into ‘/usr/local/lib/R/site-library’\n",
            "(as ‘lib’ is unspecified)\n",
            "\n",
            "also installing the dependencies ‘sysfonts’, ‘showtextdb’\n",
            "\n",
            "\n"
          ],
          "name": "stderr"
        }
      ]
    },
    {
      "cell_type": "code",
      "metadata": {
        "id": "SLI6TBuchqjq"
      },
      "source": [
        "library(showtext)"
      ],
      "execution_count": null,
      "outputs": []
    },
    {
      "cell_type": "code",
      "metadata": {
        "id": "2ISVf49DgIgZ",
        "outputId": "051ba33e-f98e-4c63-8034-9de6f006fe6f",
        "colab": {
          "base_uri": "https://localhost:8080/",
          "height": 96
        }
      },
      "source": [
        "showtext.auto(enable = TRUE)"
      ],
      "execution_count": 44,
      "outputs": [
        {
          "output_type": "error",
          "ename": "ERROR",
          "evalue": "ignored",
          "traceback": [
            "Error in showtext.auto(enable = TRUE): could not find function \"showtext.auto\"\nTraceback:\n"
          ]
        }
      ]
    },
    {
      "cell_type": "code",
      "metadata": {
        "id": "aBx0CpgKfzlw",
        "outputId": "d64bb1e7-7d6e-4043-d988-089784b96887",
        "colab": {
          "base_uri": "https://localhost:8080/",
          "height": 146
        }
      },
      "source": [
        "qqplot(studentdataset,\n",
        "aes(X = 體系別,y = 總計)) + geom_point()\n",
        "\n",
        "qqplot(studentdataset,\n",
        "aes(體系別, 總計)) + geom_point()"
      ],
      "execution_count": 52,
      "outputs": [
        {
          "output_type": "error",
          "ename": "ERROR",
          "evalue": "ignored",
          "traceback": [
            "Error in sort(x): object 'studentdataset' not found\nTraceback:\n",
            "1. qqplot(studentdataset, aes(X = 體系別, y = 總計))",
            "2. sort(x)"
          ]
        }
      ]
    },
    {
      "cell_type": "code",
      "metadata": {
        "id": "vja2BLV0ieou",
        "outputId": "843779cc-1fed-4e59-c11d-134eb725997e",
        "colab": {
          "base_uri": "https://localhost:8080/",
          "height": 146
        }
      },
      "source": [
        "qqplot(studentdataset,\n",
        "aes(X = 體系別)) + geom_bar()\n",
        "\n",
        "qqplot(studentdataset,\n",
        "aes(體系別)) + geom_bar()"
      ],
      "execution_count": 53,
      "outputs": [
        {
          "output_type": "error",
          "ename": "ERROR",
          "evalue": "ignored",
          "traceback": [
            "Error in sort(x): object 'studentdataset' not found\nTraceback:\n",
            "1. qqplot(studentdataset, aes(X = 體系別))",
            "2. sort(x)"
          ]
        }
      ]
    }
  ]
}