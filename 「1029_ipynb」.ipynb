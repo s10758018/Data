{
  "nbformat": 4,
  "nbformat_minor": 0,
  "metadata": {
    "colab": {
      "name": "「1029.ipynb」",
      "provenance": [],
      "collapsed_sections": [],
      "include_colab_link": true
    },
    "kernelspec": {
      "name": "ir",
      "display_name": "R"
    }
  },
  "cells": [
    {
      "cell_type": "markdown",
      "metadata": {
        "id": "view-in-github",
        "colab_type": "text"
      },
      "source": [
        "<a href=\"https://colab.research.google.com/github/s10758018/Data/blob/master/%E3%80%8C1029_ipynb%E3%80%8D.ipynb\" target=\"_parent\"><img src=\"https://colab.research.google.com/assets/colab-badge.svg\" alt=\"Open In Colab\"/></a>"
      ]
    },
    {
      "cell_type": "code",
      "metadata": {
        "id": "gQNUns6TcLQz",
        "outputId": "8df274d3-842c-4279-bb74-c76fc1aab3c8",
        "colab": {
          "base_uri": "https://localhost:8080/"
        }
      },
      "source": [
        "install.packages(\"readr\")\n",
        "install.packages(\"ggplot2\")"
      ],
      "execution_count": 80,
      "outputs": [
        {
          "output_type": "stream",
          "text": [
            "Installing package into ‘/usr/local/lib/R/site-library’\n",
            "(as ‘lib’ is unspecified)\n",
            "\n",
            "Installing package into ‘/usr/local/lib/R/site-library’\n",
            "(as ‘lib’ is unspecified)\n",
            "\n"
          ],
          "name": "stderr"
        }
      ]
    },
    {
      "cell_type": "code",
      "metadata": {
        "id": "VCrUn4OhcpLB"
      },
      "source": [
        "library(readr)\n",
        "library(ggplot2)"
      ],
      "execution_count": 82,
      "outputs": []
    },
    {
      "cell_type": "code",
      "metadata": {
        "id": "ks3JMH3-rulR"
      },
      "source": [
        "studentdataset <- read.csv(\"108_student.csv\")"
      ],
      "execution_count": 89,
      "outputs": []
    },
    {
      "cell_type": "code",
      "metadata": {
        "id": "jXDAZOHtdnDO",
        "outputId": "276dcac9-83ae-412d-d8d3-57b689570280",
        "colab": {
          "base_uri": "https://localhost:8080/"
        }
      },
      "source": [
        "str(studentdataset)"
      ],
      "execution_count": 90,
      "outputs": [
        {
          "output_type": "stream",
          "text": [
            "'data.frame':\t794 obs. of  25 variables:\n",
            " $ 學校代碼   : int  1 1 1 1 2 2 2 2 2 3 ...\n",
            " $ 學校名稱   : chr  \"國立政治大學\" \"國立政治大學\" \"國立政治大學\" \"國立政治大學\" ...\n",
            " $ 日間.進修別: chr  \"D 日\" \"D 日\" \"D 日\" \"N 職\" ...\n",
            " $ 等級別     : chr  \"D 博士\" \"M 碩士\" \"B 學士\" \"M 碩士\" ...\n",
            " $ 總計       : int  995 4023 9585 1787 1656 5190 8500 39 1293 3433 ...\n",
            " $ 男生計     : int  561 1861 3912 929 1211 3221 4658 25 479 2405 ...\n",
            " $ 女生計     : int  434 2162 5673 858 445 1969 3842 14 814 1028 ...\n",
            " $ 一年級男生 : int  90 644 896 298 241 1299 1105 3 191 467 ...\n",
            " $ 一年級女生 : int  85 745 1289 273 85 754 925 2 269 185 ...\n",
            " $ 二年級男生 : int  87 593 906 266 206 1231 1093 20 170 361 ...\n",
            " $ 二年級女生 : int  77 702 1309 233 90 659 843 12 217 179 ...\n",
            " $ 三年級男生 : int  84 372 883 185 179 475 1075 0 35 347 ...\n",
            " $ 三年級女生 : int  74 451 1319 190 64 321 945 0 114 163 ...\n",
            " $ 四年級男生 : int  89 252 882 110 163 209 1123 0 26 355 ...\n",
            " $ 四年級女生 : int  53 264 1333 96 60 211 975 0 92 132 ...\n",
            " $ 五年級男生 : int  70 0 0 70 140 3 0 0 23 292 ...\n",
            " $ 五年級女生 : int  48 0 0 66 43 14 0 0 43 130 ...\n",
            " $ 六年級男生 : int  61 0 0 0 122 4 0 0 9 240 ...\n",
            " $ 六年級女生 : int  55 0 0 0 44 10 0 0 29 105 ...\n",
            " $ 七年級男生 : int  80 0 0 0 160 0 0 0 25 343 ...\n",
            " $ 七年級女生 : int  42 0 0 0 59 0 0 0 50 134 ...\n",
            " $ 延修生男生 : int  0 0 345 0 0 0 262 2 0 0 ...\n",
            " $ 延修生女生 : int  0 0 423 0 0 0 154 0 0 0 ...\n",
            " $ 縣市名稱   : chr  \"30 臺北市\" \"30 臺北市\" \"30 臺北市\" \"30 臺北市\" ...\n",
            " $ 體系別     : chr  \"1 一般\" \"1 一般\" \"1 一般\" \"1 一般\" ...\n"
          ],
          "name": "stdout"
        }
      ]
    },
    {
      "cell_type": "code",
      "metadata": {
        "id": "MKPvj1lgeTFe",
        "outputId": "0bd241f2-71f4-4630-933a-b574a1d523f0",
        "colab": {
          "base_uri": "https://localhost:8080/",
          "height": 313
        }
      },
      "source": [
        "head(studentdataset)"
      ],
      "execution_count": 91,
      "outputs": [
        {
          "output_type": "display_data",
          "data": {
            "text/plain": [
              "  學校代碼 學校名稱     日間.進修別 等級別 總計 男生計 女生計 一年級男生\n",
              "1 1        國立政治大學 D 日        D 博士  995  561    434     90      \n",
              "2 1        國立政治大學 D 日        M 碩士 4023 1861   2162    644      \n",
              "3 1        國立政治大學 D 日        B 學士 9585 3912   5673    896      \n",
              "4 1        國立政治大學 N 職        M 碩士 1787  929    858    298      \n",
              "5 2        國立清華大學 D 日        D 博士 1656 1211    445    241      \n",
              "6 2        國立清華大學 D 日        M 碩士 5190 3221   1969   1299      \n",
              "  一年級女生 二年級男生 ⋯ 五年級男生 五年級女生 六年級男生 六年級女生\n",
              "1   85         87       ⋯  70        48          61        55        \n",
              "2  745        593       ⋯   0         0           0         0        \n",
              "3 1289        906       ⋯   0         0           0         0        \n",
              "4  273        266       ⋯  70        66           0         0        \n",
              "5   85        206       ⋯ 140        43         122        44        \n",
              "6  754       1231       ⋯   3        14           4        10        \n",
              "  七年級男生 七年級女生 延修生男生 延修生女生 縣市名稱  體系別\n",
              "1  80        42           0          0        30 臺北市 1 一般\n",
              "2   0         0           0          0        30 臺北市 1 一般\n",
              "3   0         0         345        423        30 臺北市 1 一般\n",
              "4   0         0           0          0        30 臺北市 1 一般\n",
              "5 160        59           0          0        18 新竹市 1 一般\n",
              "6   0         0           0          0        18 新竹市 1 一般"
            ],
            "text/latex": "A data.frame: 6 × 25\n\\begin{tabular}{r|lllllllllllllllllllll}\n  & 學校代碼 & 學校名稱 & 日間.進修別 & 等級別 & 總計 & 男生計 & 女生計 & 一年級男生 & 一年級女生 & 二年級男生 & ⋯ & 五年級男生 & 五年級女生 & 六年級男生 & 六年級女生 & 七年級男生 & 七年級女生 & 延修生男生 & 延修生女生 & 縣市名稱 & 體系別\\\\\n  & <int> & <chr> & <chr> & <chr> & <int> & <int> & <int> & <int> & <int> & <int> & ⋯ & <int> & <int> & <int> & <int> & <int> & <int> & <int> & <int> & <chr> & <chr>\\\\\n\\hline\n\t1 & 1 & 國立政治大學 & D 日 & D 博士 &  995 &  561 &  434 &   90 &   85 &   87 & ⋯ &  70 & 48 &  61 & 55 &  80 & 42 &   0 &   0 & 30 臺北市 & 1 一般\\\\\n\t2 & 1 & 國立政治大學 & D 日 & M 碩士 & 4023 & 1861 & 2162 &  644 &  745 &  593 & ⋯ &   0 &  0 &   0 &  0 &   0 &  0 &   0 &   0 & 30 臺北市 & 1 一般\\\\\n\t3 & 1 & 國立政治大學 & D 日 & B 學士 & 9585 & 3912 & 5673 &  896 & 1289 &  906 & ⋯ &   0 &  0 &   0 &  0 &   0 &  0 & 345 & 423 & 30 臺北市 & 1 一般\\\\\n\t4 & 1 & 國立政治大學 & N 職 & M 碩士 & 1787 &  929 &  858 &  298 &  273 &  266 & ⋯ &  70 & 66 &   0 &  0 &   0 &  0 &   0 &   0 & 30 臺北市 & 1 一般\\\\\n\t5 & 2 & 國立清華大學 & D 日 & D 博士 & 1656 & 1211 &  445 &  241 &   85 &  206 & ⋯ & 140 & 43 & 122 & 44 & 160 & 59 &   0 &   0 & 18 新竹市 & 1 一般\\\\\n\t6 & 2 & 國立清華大學 & D 日 & M 碩士 & 5190 & 3221 & 1969 & 1299 &  754 & 1231 & ⋯ &   3 & 14 &   4 & 10 &   0 &  0 &   0 &   0 & 18 新竹市 & 1 一般\\\\\n\\end{tabular}\n",
            "text/markdown": "\nA data.frame: 6 × 25\n\n| <!--/--> | 學校代碼 &lt;int&gt; | 學校名稱 &lt;chr&gt; | 日間.進修別 &lt;chr&gt; | 等級別 &lt;chr&gt; | 總計 &lt;int&gt; | 男生計 &lt;int&gt; | 女生計 &lt;int&gt; | 一年級男生 &lt;int&gt; | 一年級女生 &lt;int&gt; | 二年級男生 &lt;int&gt; | ⋯ ⋯ | 五年級男生 &lt;int&gt; | 五年級女生 &lt;int&gt; | 六年級男生 &lt;int&gt; | 六年級女生 &lt;int&gt; | 七年級男生 &lt;int&gt; | 七年級女生 &lt;int&gt; | 延修生男生 &lt;int&gt; | 延修生女生 &lt;int&gt; | 縣市名稱 &lt;chr&gt; | 體系別 &lt;chr&gt; |\n|---|---|---|---|---|---|---|---|---|---|---|---|---|---|---|---|---|---|---|---|---|---|\n| 1 | 1 | 國立政治大學 | D 日 | D 博士 |  995 |  561 |  434 |   90 |   85 |   87 | ⋯ |  70 | 48 |  61 | 55 |  80 | 42 |   0 |   0 | 30 臺北市 | 1 一般 |\n| 2 | 1 | 國立政治大學 | D 日 | M 碩士 | 4023 | 1861 | 2162 |  644 |  745 |  593 | ⋯ |   0 |  0 |   0 |  0 |   0 |  0 |   0 |   0 | 30 臺北市 | 1 一般 |\n| 3 | 1 | 國立政治大學 | D 日 | B 學士 | 9585 | 3912 | 5673 |  896 | 1289 |  906 | ⋯ |   0 |  0 |   0 |  0 |   0 |  0 | 345 | 423 | 30 臺北市 | 1 一般 |\n| 4 | 1 | 國立政治大學 | N 職 | M 碩士 | 1787 |  929 |  858 |  298 |  273 |  266 | ⋯ |  70 | 66 |   0 |  0 |   0 |  0 |   0 |   0 | 30 臺北市 | 1 一般 |\n| 5 | 2 | 國立清華大學 | D 日 | D 博士 | 1656 | 1211 |  445 |  241 |   85 |  206 | ⋯ | 140 | 43 | 122 | 44 | 160 | 59 |   0 |   0 | 18 新竹市 | 1 一般 |\n| 6 | 2 | 國立清華大學 | D 日 | M 碩士 | 5190 | 3221 | 1969 | 1299 |  754 | 1231 | ⋯ |   3 | 14 |   4 | 10 |   0 |  0 |   0 |   0 | 18 新竹市 | 1 一般 |\n\n",
            "text/html": [
              "<table>\n",
              "<caption>A data.frame: 6 × 25</caption>\n",
              "<thead>\n",
              "\t<tr><th></th><th scope=col>學校代碼</th><th scope=col>學校名稱</th><th scope=col>日間.進修別</th><th scope=col>等級別</th><th scope=col>總計</th><th scope=col>男生計</th><th scope=col>女生計</th><th scope=col>一年級男生</th><th scope=col>一年級女生</th><th scope=col>二年級男生</th><th scope=col>⋯</th><th scope=col>五年級男生</th><th scope=col>五年級女生</th><th scope=col>六年級男生</th><th scope=col>六年級女生</th><th scope=col>七年級男生</th><th scope=col>七年級女生</th><th scope=col>延修生男生</th><th scope=col>延修生女生</th><th scope=col>縣市名稱</th><th scope=col>體系別</th></tr>\n",
              "\t<tr><th></th><th scope=col>&lt;int&gt;</th><th scope=col>&lt;chr&gt;</th><th scope=col>&lt;chr&gt;</th><th scope=col>&lt;chr&gt;</th><th scope=col>&lt;int&gt;</th><th scope=col>&lt;int&gt;</th><th scope=col>&lt;int&gt;</th><th scope=col>&lt;int&gt;</th><th scope=col>&lt;int&gt;</th><th scope=col>&lt;int&gt;</th><th scope=col>⋯</th><th scope=col>&lt;int&gt;</th><th scope=col>&lt;int&gt;</th><th scope=col>&lt;int&gt;</th><th scope=col>&lt;int&gt;</th><th scope=col>&lt;int&gt;</th><th scope=col>&lt;int&gt;</th><th scope=col>&lt;int&gt;</th><th scope=col>&lt;int&gt;</th><th scope=col>&lt;chr&gt;</th><th scope=col>&lt;chr&gt;</th></tr>\n",
              "</thead>\n",
              "<tbody>\n",
              "\t<tr><th scope=row>1</th><td>1</td><td>國立政治大學</td><td>D 日</td><td>D 博士</td><td> 995</td><td> 561</td><td> 434</td><td>  90</td><td>  85</td><td>  87</td><td>⋯</td><td> 70</td><td>48</td><td> 61</td><td>55</td><td> 80</td><td>42</td><td>  0</td><td>  0</td><td>30 臺北市</td><td>1 一般</td></tr>\n",
              "\t<tr><th scope=row>2</th><td>1</td><td>國立政治大學</td><td>D 日</td><td>M 碩士</td><td>4023</td><td>1861</td><td>2162</td><td> 644</td><td> 745</td><td> 593</td><td>⋯</td><td>  0</td><td> 0</td><td>  0</td><td> 0</td><td>  0</td><td> 0</td><td>  0</td><td>  0</td><td>30 臺北市</td><td>1 一般</td></tr>\n",
              "\t<tr><th scope=row>3</th><td>1</td><td>國立政治大學</td><td>D 日</td><td>B 學士</td><td>9585</td><td>3912</td><td>5673</td><td> 896</td><td>1289</td><td> 906</td><td>⋯</td><td>  0</td><td> 0</td><td>  0</td><td> 0</td><td>  0</td><td> 0</td><td>345</td><td>423</td><td>30 臺北市</td><td>1 一般</td></tr>\n",
              "\t<tr><th scope=row>4</th><td>1</td><td>國立政治大學</td><td>N 職</td><td>M 碩士</td><td>1787</td><td> 929</td><td> 858</td><td> 298</td><td> 273</td><td> 266</td><td>⋯</td><td> 70</td><td>66</td><td>  0</td><td> 0</td><td>  0</td><td> 0</td><td>  0</td><td>  0</td><td>30 臺北市</td><td>1 一般</td></tr>\n",
              "\t<tr><th scope=row>5</th><td>2</td><td>國立清華大學</td><td>D 日</td><td>D 博士</td><td>1656</td><td>1211</td><td> 445</td><td> 241</td><td>  85</td><td> 206</td><td>⋯</td><td>140</td><td>43</td><td>122</td><td>44</td><td>160</td><td>59</td><td>  0</td><td>  0</td><td>18 新竹市</td><td>1 一般</td></tr>\n",
              "\t<tr><th scope=row>6</th><td>2</td><td>國立清華大學</td><td>D 日</td><td>M 碩士</td><td>5190</td><td>3221</td><td>1969</td><td>1299</td><td> 754</td><td>1231</td><td>⋯</td><td>  3</td><td>14</td><td>  4</td><td>10</td><td>  0</td><td> 0</td><td>  0</td><td>  0</td><td>18 新竹市</td><td>1 一般</td></tr>\n",
              "</tbody>\n",
              "</table>\n"
            ]
          },
          "metadata": {
            "tags": []
          }
        }
      ]
    },
    {
      "cell_type": "code",
      "metadata": {
        "id": "Zfa4KYUTfAaX",
        "outputId": "01e1c08c-aaf1-452c-b68f-bc9453c8f292",
        "colab": {
          "base_uri": "https://localhost:8080/"
        }
      },
      "source": [
        "install.packages(\"showtext\")"
      ],
      "execution_count": 92,
      "outputs": [
        {
          "output_type": "stream",
          "text": [
            "Installing package into ‘/usr/local/lib/R/site-library’\n",
            "(as ‘lib’ is unspecified)\n",
            "\n"
          ],
          "name": "stderr"
        }
      ]
    },
    {
      "cell_type": "code",
      "metadata": {
        "id": "SLI6TBuchqjq",
        "outputId": "5bb143d5-1e61-41ad-eb35-25f8870f6d12",
        "colab": {
          "base_uri": "https://localhost:8080/"
        }
      },
      "source": [
        "library(showtext)"
      ],
      "execution_count": 93,
      "outputs": [
        {
          "output_type": "stream",
          "text": [
            "Loading required package: sysfonts\n",
            "\n",
            "Loading required package: showtextdb\n",
            "\n"
          ],
          "name": "stderr"
        }
      ]
    },
    {
      "cell_type": "code",
      "metadata": {
        "id": "2ISVf49DgIgZ",
        "outputId": "9349d71c-de00-4431-f3b6-5b57200d112a",
        "colab": {
          "base_uri": "https://localhost:8080/"
        }
      },
      "source": [
        "showtext.auto(enable = TRUE)"
      ],
      "execution_count": 94,
      "outputs": [
        {
          "output_type": "stream",
          "text": [
            "'showtext.auto()' is now renamed to 'showtext_auto()'\n",
            "The old version still works, but consider using the new function in future code\n",
            "\n"
          ],
          "name": "stderr"
        }
      ]
    },
    {
      "cell_type": "code",
      "metadata": {
        "id": "aBx0CpgKfzlw",
        "outputId": "3163c796-b57c-476c-c8c4-8fc2479d7097",
        "colab": {
          "base_uri": "https://localhost:8080/",
          "height": 857
        }
      },
      "source": [
        "ggplot(studentdataset, aes(x = 體系別,y = 總計)) + geom_point()\n",
        "\n",
        "ggplot(studentdataset, aes(體系別, 總計)) + geom_point()"
      ],
      "execution_count": 99,
      "outputs": [
        {
          "output_type": "display_data",
          "data": {
            "image/png": "[encoded data removed]",
            "text/plain": [
              "plot without title"
            ]
          },
          "metadata": {
            "tags": [],
            "image/png": {
              "width": 420,
              "height": 420
            }
          }
        },
        {
          "output_type": "display_data",
          "data": {
            "image/png": "[encoded data removed]",
            "text/plain": [
              "plot without title"
            ]
          },
          "metadata": {
            "tags": [],
            "image/png": {
              "width": 420,
              "height": 420
            }
          }
        }
      ]
    },
    {
      "cell_type": "code",
      "metadata": {
        "id": "vja2BLV0ieou",
        "outputId": "bf0eaf5f-f8c3-4c2a-a343-836d0b6e41db",
        "colab": {
          "base_uri": "https://localhost:8080/",
          "height": 437
        }
      },
      "source": [
        "ggplot(studentdataset, aes(體系別)) + geom_bar()"
      ],
      "execution_count": 100,
      "outputs": [
        {
          "output_type": "display_data",
          "data": {
            "image/png": "[encoded data removed]",
            "text/plain": [
              "plot without title"
            ]
          },
          "metadata": {
            "tags": [],
            "image/png": {
              "width": 420,
              "height": 420
            }
          }
        }
      ]
    }
  ]
}